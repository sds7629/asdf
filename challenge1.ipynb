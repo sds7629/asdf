{
 "cells": [
  {
   "cell_type": "code",
   "execution_count": 7,
   "metadata": {},
   "outputs": [
    {
     "name": "stdout",
     "output_type": "stream",
     "text": [
      "27.78\n",
      "과체중\n"
     ]
    }
   ],
   "source": [
    "## 키와 몸무게를 이용해 BMI를 판단하는 문제!\n",
    "\n",
    "height, weight = map(int, input(\"키, 몸무게를 입력해주세요: \").split()) # 키와 몸무게를 입력 받기 위해 split 함수를 이용합니다. 여러분은 그냥 숫자를 입력해주세요!\n",
    "# 이런 방법도 있구나 정도로만 봐주시면 됩니다!\n",
    "\n",
    "m_height = height / 100 # Cm를 m 단위로 변환하기 위해\n",
    "bmi = weight / (m_height**2) # 나와있는 계산식!\n",
    "\n",
    "print(\"{:.2f}\".format(bmi)) # 소수점 둘째 자리까지 표현\n",
    "\n",
    "if bmi < 20:\n",
    "  print(\"저체중\")\n",
    "elif bmi >= 20 and bmi <= 29:\n",
    "  print(\"과체중\")\n",
    "else:\n",
    "  print(\"비만\")"
   ]
  },
  {
   "cell_type": "code",
   "execution_count": 9,
   "metadata": {},
   "outputs": [
    {
     "name": "stdout",
     "output_type": "stream",
     "text": [
      "90\n"
     ]
    }
   ],
   "source": [
    "## 문제2. 피타고라스의 정의를 표현하는 문제!\n",
    "\n",
    "# a = 밑변 b = 높이 c = 빗변\n",
    "a, b = map(int, input(\"밑변과 높이를 입력해주세요: \").split()) # 이 부분 역시 여러분은 숫자로 대체해 주시면 됩니다!\n",
    "\n",
    "c = (a**2) + (b**2)\n",
    "print(c)"
   ]
  },
  {
   "cell_type": "code",
   "execution_count": 17,
   "metadata": {},
   "outputs": [
    {
     "name": "stdout",
     "output_type": "stream",
     "text": [
      "461250000.00\n"
     ]
    }
   ],
   "source": [
    "## 문제3. 단리이자를 이용한 이자 계산하기 문제!\n",
    "## 단리 이자 계산법\n",
    "## 이자 = 원금 X 연 이율 X 기간\n",
    "# 연 이율은 6.15프로로 고정되어 있는 값을 주겠습니다.\n",
    "\n",
    "percent = 6.15\n",
    "bonus = int(input(\"보너스를 얼마 받으셨나요!: \")) # 숫자 대체!\n",
    "year = int(input(\"몇 년동안 예금하실 생각 이신가요!: \")) # 이하 동문!\n",
    "\n",
    "how = bonus * percent * year \n",
    "\n",
    "print(\"{:.2f}\".format(how))"
   ]
  }
 ],
 "metadata": {
  "kernelspec": {
   "display_name": "Python 3",
   "language": "python",
   "name": "python3"
  },
  "language_info": {
   "codemirror_mode": {
    "name": "ipython",
    "version": 3
   },
   "file_extension": ".py",
   "mimetype": "text/x-python",
   "name": "python",
   "nbconvert_exporter": "python",
   "pygments_lexer": "ipython3",
   "version": "3.11.4"
  }
 },
 "nbformat": 4,
 "nbformat_minor": 2
}
