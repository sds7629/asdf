{
 "cells": [
  {
   "cell_type": "code",
   "execution_count": 1,
   "metadata": {},
   "outputs": [
    {
     "name": "stdout",
     "output_type": "stream",
     "text": [
      "홀홀홀\n"
     ]
    }
   ],
   "source": [
    "## 문제1. 변수명에 변수명 게임에 들어 있는 값 중 '홀'만 출력되도록 코드를 작성해 주세요\n",
    "\n",
    "holzzak = \"홀짝홀짝홀짝\"\n",
    "\n",
    "print(holzzak[::2])"
   ]
  },
  {
   "cell_type": "code",
   "execution_count": 3,
   "metadata": {},
   "outputs": [
    {
     "name": "stdout",
     "output_type": "stream",
     "text": [
      "01012345678\n"
     ]
    }
   ],
   "source": [
    "## 변수명 전화번호에 들어 있는 번호를 모두 붙여서 출력되도록 코드를 작성해주세요\n",
    "\n",
    "telephone_num = \"010-1234-5678\"\n",
    "\n",
    "remove_num = telephone_num.split(\"-\")\n",
    "\n",
    "print(\"\".join(remove_num))"
   ]
  },
  {
   "cell_type": "code",
   "execution_count": 7,
   "metadata": {},
   "outputs": [
    {
     "name": "stdout",
     "output_type": "stream",
     "text": [
      "True\n",
      "68.5\n"
     ]
    }
   ],
   "source": [
    "## 창의성, 시장성, 안정성, 수익성에 대한 각각의 평가 중 아래 기준에 부합하지 못하면 창업지원을 받을 수 없습니다.\n",
    "\n",
    "#수익성 60점 이상\n",
    "#창의성과 시장성 50점 이상\n",
    "#시장성과 수익성을 더한 값의 절반이 안정성 보다 높아야 함\n",
    "#다음 점수가 입력되었을때 창업 지원이 가능한지 여부를 True 또는 False로 출력해주세요\n",
    "\n",
    "# 창의성 : 62 시장성 : 71 안정성 : 68 수익성 : 66\n",
    "\n",
    "# 저는 변수명을 다르게 주겠습니다. 처음부터 creation, public, safe, benefit\n",
    "\n",
    "creation, public, safe, benefit = map(int, input(\"창의성, 시장성, 안정성, 수익성을 입력해주세요: \").split())\n",
    "\n",
    "#조건\n",
    "\n",
    "if benefit < 60:\n",
    "    print(False)\n",
    "elif creation < 50 and public < 50:\n",
    "    print(False)\n",
    "elif (public + benefit) / 2 < safe:\n",
    "    print(False)\n",
    "else:\n",
    "    print(True)"
   ]
  },
  {
   "cell_type": "code",
   "execution_count": null,
   "metadata": {},
   "outputs": [],
   "source": []
  }
 ],
 "metadata": {
  "kernelspec": {
   "display_name": "Python 3",
   "language": "python",
   "name": "python3"
  },
  "language_info": {
   "codemirror_mode": {
    "name": "ipython",
    "version": 3
   },
   "file_extension": ".py",
   "mimetype": "text/x-python",
   "name": "python",
   "nbconvert_exporter": "python",
   "pygments_lexer": "ipython3",
   "version": "3.11.4"
  }
 },
 "nbformat": 4,
 "nbformat_minor": 2
}
